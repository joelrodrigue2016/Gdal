{
 "cells": [
  {
   "cell_type": "code",
   "execution_count": 92,
   "id": "7d0567c0-75c5-4762-a3e0-745d7644dbfa",
   "metadata": {},
   "outputs": [],
   "source": [
    "#These are the libraries that we need\n",
    "%matplotlib inline\n",
    "from osgeo import gdal\n",
    "import os \n",
    "import numpy as np\n",
    "from matplotlib import pyplot as plt\n",
    "from osgeo import ogr\n",
    "import osgeo\n",
    "import osgeo.ogr\n",
    "os.chdir('C:\\\\Geodatascience\\\\gdal_training\\\\dem')"
   ]
  },
  {
   "cell_type": "code",
   "execution_count": 93,
   "id": "dadc50a6-f58b-4c6f-be29-1630766de737",
   "metadata": {},
   "outputs": [],
   "source": [
    "ds= ogr.Open(\"mycontours10.shp\",1)\n",
    "layer = ds.GetLayer()\n",
    "\n",
    "\n"
   ]
  },
  {
   "cell_type": "code",
   "execution_count": 94,
   "id": "b513b9e0-705e-4647-9c77-2f8ff7da477c",
   "metadata": {},
   "outputs": [],
   "source": [
    "# get extent\n",
    "ext = layer.GetExtent()\n",
    "\n"
   ]
  },
  {
   "cell_type": "code",
   "execution_count": 95,
   "id": "82136b9a-017c-4356-ae6d-246c53673def",
   "metadata": {},
   "outputs": [],
   "source": [
    "# get a single feature\n",
    "feature = layer.GetFeature(1)\n",
    "# loop over all features in a layer\n"
   ]
  },
  {
   "cell_type": "code",
   "execution_count": 96,
   "id": "eece1543-57b3-415d-be25-e8248379fa7a",
   "metadata": {},
   "outputs": [],
   "source": [
    "# create new shapefile   \n",
    "driver = ogr.GetDriverByName(\"ESRI Shapefile\")\n",
    "outds = driver.CreateDataSource(\"out.shp\")"
   ]
  },
  {
   "cell_type": "code",
   "execution_count": 97,
   "id": "351eeb3a-9d4f-4aba-9c50-1130ad502132",
   "metadata": {},
   "outputs": [],
   "source": [
    "# copy layer\n",
    "outlayer = ds.CopyLayer(layer, \"out\")\n"
   ]
  },
  {
   "cell_type": "code",
   "execution_count": 98,
   "id": "46323614-40e7-4995-9a7e-c59e55073fd1",
   "metadata": {},
   "outputs": [
    {
     "data": {
      "text/plain": [
       "0"
      ]
     },
     "execution_count": 98,
     "metadata": {},
     "output_type": "execute_result"
    }
   ],
   "source": [
    "# create a new attribute field\n",
    "newfield = ogr.FieldDefn(\"Perimeter\", ogr.OFTReal)\n",
    "newfield.SetWidth(10)\n",
    "newfield.SetPrecision(3)\n",
    "outlayer.CreateField(newfield)\n"
   ]
  },
  {
   "cell_type": "code",
   "execution_count": 99,
   "id": "b1ba389f-f85f-417b-8d24-ebaf55ead9e8",
   "metadata": {},
   "outputs": [],
   "source": [
    "# get the perimeter of each polygon\n",
    "for feature in outlayer:\n",
    "    geom = feature.GetGeometryRef()\n",
    "    perim = geom.Boundary().Length()\n",
    "    feature.SetField(\"Perimeter\", perim)\n",
    "    outlayer.SetFeature(feature)\n",
    "    "
   ]
  },
  {
   "cell_type": "code",
   "execution_count": 100,
   "id": "9bfa7e0d-1e71-46b4-b687-6bb041134060",
   "metadata": {},
   "outputs": [],
   "source": [
    "# close everything\n",
    "outlayer = outds = feature = None\n"
   ]
  },
  {
   "cell_type": "code",
   "execution_count": 101,
   "id": "4f40df56-f331-40c0-98de-8260f49a5800",
   "metadata": {},
   "outputs": [],
   "source": [
    "# create a ring geometry from the extent of the merged layer\n",
    "ring = ogr.Geometry(ogr.wkbLinearRing)\n",
    "ring.AddPoint(ext[0], ext[2])\n",
    "ring.AddPoint(ext[1], ext[2])\n",
    "ring.AddPoint(ext[1], ext[3])\n",
    "ring.AddPoint(ext[0], ext[3])\n",
    "ring.AddPoint(ext[0], ext[2])\n",
    "\n",
    "\n"
   ]
  },
  {
   "cell_type": "code",
   "execution_count": 102,
   "id": "3aa3e9cb-7f40-42e5-8658-6a1b71b9410b",
   "metadata": {},
   "outputs": [
    {
     "data": {
      "text/plain": [
       "0"
      ]
     },
     "execution_count": 102,
     "metadata": {},
     "output_type": "execute_result"
    }
   ],
   "source": [
    "# convert to polygon\n",
    "poly = ogr.Geometry(ogr.wkbPolygon)\n",
    "poly.AddGeometry(ring)"
   ]
  },
  {
   "cell_type": "code",
   "execution_count": 103,
   "id": "06e1b4e4-af6d-476b-8ec7-8c693928656e",
   "metadata": {},
   "outputs": [],
   "source": [
    "\n",
    "# save to shapefile\n",
    "outds = driver.CreateDataSource(\"extent.shp\")\n",
    "outlayer = outds.CreateLayer(\"extent\", layer.GetSpatialRef())\n",
    "feature = ogr.Feature(outlayer.GetLayerDefn())\n",
    "\n",
    "feature.SetGeometry(poly)\n",
    "outlayer.CreateFeature(feature)\n",
    "\n",
    "outds = outlayer = feature = None"
   ]
  },
  {
   "cell_type": "code",
   "execution_count": null,
   "id": "7c828767-ce69-4150-9004-3548bbd7dd99",
   "metadata": {},
   "outputs": [],
   "source": []
  },
  {
   "cell_type": "code",
   "execution_count": null,
   "id": "8cfe15f5-c954-4ad8-b1f6-3529ce19ff26",
   "metadata": {},
   "outputs": [],
   "source": []
  }
 ],
 "metadata": {
  "kernelspec": {
   "display_name": "Python 3",
   "language": "python",
   "name": "python3"
  },
  "language_info": {
   "codemirror_mode": {
    "name": "ipython",
    "version": 3
   },
   "file_extension": ".py",
   "mimetype": "text/x-python",
   "name": "python",
   "nbconvert_exporter": "python",
   "pygments_lexer": "ipython3",
   "version": "3.8.8"
  }
 },
 "nbformat": 4,
 "nbformat_minor": 5
}
