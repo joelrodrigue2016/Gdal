{
 "cells": [
  {
   "cell_type": "code",
   "execution_count": 8,
   "id": "1ba27ba6-ceaa-4ea0-bd04-b00d78276bb7",
   "metadata": {},
   "outputs": [],
   "source": [
    "##Processing DEMs with GDAL in Python\n",
    "%matplotlib inline\n",
    "from osgeo import gdal\n",
    "import subprocess\n",
    "import os\n",
    "#import richdem as rd\n",
    "from osgeo import gdal\n",
    "import os \n",
    "import numpy as np\n",
    "from matplotlib import pyplot as plt\n",
    "\n",
    "\n",
    "os.chdir('C:\\\\Geodatascience\\\\gdal_training\\\\dem\\\\results')\n",
    "\n"
   ]
  },
  {
   "cell_type": "code",
   "execution_count": null,
   "id": "772c326b-bd9a-40a4-8738-05ffd56a3540",
   "metadata": {},
   "outputs": [],
   "source": []
  },
  {
   "cell_type": "code",
   "execution_count": null,
   "id": "4fe4e0fe-cfc0-4f71-b72e-9a2528a1c70e",
   "metadata": {},
   "outputs": [],
   "source": [
    "# using os, subprocess\n",
    "cmd = \"gdaldem slope -compute_edges dem.tif slope1.tif\" # replace slope with aspect or hillshade\n",
    "os.system(cmd)\n",
    "subprocess.check_call(cmd.split())\n",
    "slp1 = gdal.Open(\"slope1.tif\")\n",
    "slp1Array = slp1.GetRasterBand(1).ReadAsArray()\n",
    "\n"
   ]
  },
  {
   "cell_type": "code",
   "execution_count": null,
   "id": "6acf68e9-222f-49f5-9be4-3391519dd0c6",
   "metadata": {},
   "outputs": [],
   "source": [
    "# using DEMProcessing\n",
    "dem = gdal.Open(\"dem.tif\")\n",
    "slp2 = gdal.DEMProcessing(\"slope2.tif\", dem, \"slope\",  computeEdges=True) # replace \"slope\" with \"aspect\" or \"hillshade\"\n",
    "slp2Array = slp2.GetRasterBand(1).ReadAsArray()\n",
    "\n"
   ]
  },
  {
   "cell_type": "code",
   "execution_count": null,
   "id": "d5a76bac-3d92-4aeb-b2fe-bc2f6fe3d9f4",
   "metadata": {},
   "outputs": [],
   "source": [
    "# close your datasets!\n",
    "slp1 = slp2 = dem = None\n",
    "\n",
    "\n"
   ]
  },
  {
   "cell_type": "code",
   "execution_count": null,
   "id": "38d076ed-3f88-4ccc-847a-276329803c9b",
   "metadata": {},
   "outputs": [],
   "source": [
    "# using richdem\n",
    "dem = rd.LoadGDAL(\"dem.tif\")\n",
    "slp3 = rd.TerrainAttribute(dem, attrib=\"slope_degrees\") # replace \"slope_degrees\" with \"slope_riserun\",  \"aspect\" ...\n",
    "rd.SaveGDAL(\"slope3.tif\", slp3) \n"
   ]
  },
  {
   "cell_type": "code",
   "execution_count": 3,
   "id": "6cfadc21-8c92-4ea2-b29b-779a461738b8",
   "metadata": {},
   "outputs": [
    {
     "ename": "NameError",
     "evalue": "name 'plt' is not defined",
     "output_type": "error",
     "traceback": [
      "\u001b[1;31m---------------------------------------------------------------------------\u001b[0m",
      "\u001b[1;31mNameError\u001b[0m                                 Traceback (most recent call last)",
      "\u001b[1;32m<ipython-input-3-078b62056075>\u001b[0m in \u001b[0;36m<module>\u001b[1;34m\u001b[0m\n\u001b[0;32m      1\u001b[0m \u001b[1;31m# visualize (example)\u001b[0m\u001b[1;33m\u001b[0m\u001b[1;33m\u001b[0m\u001b[1;33m\u001b[0m\u001b[0m\n\u001b[1;32m----> 2\u001b[1;33m \u001b[0mplt\u001b[0m\u001b[1;33m.\u001b[0m\u001b[0mfigure\u001b[0m\u001b[1;33m(\u001b[0m\u001b[1;33m)\u001b[0m\u001b[1;33m\u001b[0m\u001b[1;33m\u001b[0m\u001b[0m\n\u001b[0m\u001b[0;32m      3\u001b[0m \u001b[0mplt\u001b[0m\u001b[1;33m.\u001b[0m\u001b[0mimshow\u001b[0m\u001b[1;33m(\u001b[0m\u001b[0mslp2Array\u001b[0m\u001b[1;33m)\u001b[0m\u001b[1;33m\u001b[0m\u001b[1;33m\u001b[0m\u001b[0m\n\u001b[0;32m      4\u001b[0m \u001b[0mplt\u001b[0m\u001b[1;33m.\u001b[0m\u001b[0mcolorbar\u001b[0m\u001b[1;33m(\u001b[0m\u001b[1;33m)\u001b[0m\u001b[1;33m\u001b[0m\u001b[1;33m\u001b[0m\u001b[0m\n\u001b[0;32m      5\u001b[0m \u001b[0mplt\u001b[0m\u001b[1;33m.\u001b[0m\u001b[0mshow\u001b[0m\u001b[1;33m(\u001b[0m\u001b[1;33m)\u001b[0m\u001b[1;33m\u001b[0m\u001b[1;33m\u001b[0m\u001b[0m\n",
      "\u001b[1;31mNameError\u001b[0m: name 'plt' is not defined"
     ]
    }
   ],
   "source": [
    "# visualize (example)\n",
    "plt.figure()\n",
    "plt.imshow(slp2Array)\n",
    "plt.colorbar()\n",
    "plt.show()"
   ]
  },
  {
   "cell_type": "code",
   "execution_count": 7,
   "id": "1d3143be-6f98-44eb-a67e-b814a0530c6c",
   "metadata": {},
   "outputs": [
    {
     "name": "stdout",
     "output_type": "stream",
     "text": [
      "Collecting richdem\n",
      "  Downloading richdem-0.3.4.tar.gz (329 kB)\n",
      "Requirement already satisfied: numpy<2,>=1.7 in c:\\users\\joel1\\anaconda3\\lib\\site-packages (from richdem) (1.20.1)\n",
      "Building wheels for collected packages: richdem\n",
      "  Building wheel for richdem (setup.py): started\n",
      "  Building wheel for richdem (setup.py): finished with status 'error'\n",
      "  Running setup.py clean for richdem\n",
      "Failed to build richdem\n",
      "Installing collected packages: richdem\n",
      "    Running setup.py install for richdem: started\n",
      "    Running setup.py install for richdem: finished with status 'error'\n",
      "Note: you may need to restart the kernel to use updated packages.\n"
     ]
    },
    {
     "name": "stderr",
     "output_type": "stream",
     "text": [
      "  ERROR: Command errored out with exit status 1:\n",
      "   command: 'C:\\Users\\joel1\\anaconda3\\python.exe' -u -c 'import sys, setuptools, tokenize; sys.argv[0] = '\"'\"'C:\\\\Users\\\\joel1\\\\AppData\\\\Local\\\\Temp\\\\pip-install-y1wty_dp\\\\richdem_0039537c7ce44cf18d6efd2b3ce96a86\\\\setup.py'\"'\"'; __file__='\"'\"'C:\\\\Users\\\\joel1\\\\AppData\\\\Local\\\\Temp\\\\pip-install-y1wty_dp\\\\richdem_0039537c7ce44cf18d6efd2b3ce96a86\\\\setup.py'\"'\"';f=getattr(tokenize, '\"'\"'open'\"'\"', open)(__file__);code=f.read().replace('\"'\"'\\r\\n'\"'\"', '\"'\"'\\n'\"'\"');f.close();exec(compile(code, __file__, '\"'\"'exec'\"'\"'))' bdist_wheel -d 'C:\\Users\\joel1\\AppData\\Local\\Temp\\pip-wheel-pk7yxc0_'\n",
      "       cwd: C:\\Users\\joel1\\AppData\\Local\\Temp\\pip-install-y1wty_dp\\richdem_0039537c7ce44cf18d6efd2b3ce96a86\\\n",
      "  Complete output (14 lines):\n",
      "  Using RichDEM hash=Unknown, time=Unknown\n",
      "  running bdist_wheel\n",
      "  running build\n",
      "  running build_py\n",
      "  creating build\n",
      "  creating build\\lib.win-amd64-3.8\n",
      "  creating build\\lib.win-amd64-3.8\\richdem\n",
      "  copying richdem\\cli.py -> build\\lib.win-amd64-3.8\\richdem\n",
      "  copying richdem\\__init__.py -> build\\lib.win-amd64-3.8\\richdem\n",
      "  running build_ext\n",
      "  COMPILER msvc\n",
      "  COMPILER ARGUMENTS ['-std=c++11', '-g', '-fvisibility=hidden', '-O3']\n",
      "  building '_richdem' extension\n",
      "  error: Microsoft Visual C++ 14.0 or greater is required. Get it with \"Microsoft C++ Build Tools\": https://visualstudio.microsoft.com/visual-cpp-build-tools/\n",
      "  ----------------------------------------\n",
      "  ERROR: Failed building wheel for richdem\n",
      "    ERROR: Command errored out with exit status 1:\n",
      "     command: 'C:\\Users\\joel1\\anaconda3\\python.exe' -u -c 'import sys, setuptools, tokenize; sys.argv[0] = '\"'\"'C:\\\\Users\\\\joel1\\\\AppData\\\\Local\\\\Temp\\\\pip-install-y1wty_dp\\\\richdem_0039537c7ce44cf18d6efd2b3ce96a86\\\\setup.py'\"'\"'; __file__='\"'\"'C:\\\\Users\\\\joel1\\\\AppData\\\\Local\\\\Temp\\\\pip-install-y1wty_dp\\\\richdem_0039537c7ce44cf18d6efd2b3ce96a86\\\\setup.py'\"'\"';f=getattr(tokenize, '\"'\"'open'\"'\"', open)(__file__);code=f.read().replace('\"'\"'\\r\\n'\"'\"', '\"'\"'\\n'\"'\"');f.close();exec(compile(code, __file__, '\"'\"'exec'\"'\"'))' install --record 'C:\\Users\\joel1\\AppData\\Local\\Temp\\pip-record-2vpey_at\\install-record.txt' --single-version-externally-managed --compile --install-headers 'C:\\Users\\joel1\\anaconda3\\Include\\richdem'\n",
      "         cwd: C:\\Users\\joel1\\AppData\\Local\\Temp\\pip-install-y1wty_dp\\richdem_0039537c7ce44cf18d6efd2b3ce96a86\\\n",
      "    Complete output (14 lines):\n",
      "    Using RichDEM hash=Unknown, time=Unknown\n",
      "    running install\n",
      "    running build\n",
      "    running build_py\n",
      "    creating build\n",
      "    creating build\\lib.win-amd64-3.8\n",
      "    creating build\\lib.win-amd64-3.8\\richdem\n",
      "    copying richdem\\cli.py -> build\\lib.win-amd64-3.8\\richdem\n",
      "    copying richdem\\__init__.py -> build\\lib.win-amd64-3.8\\richdem\n",
      "    running build_ext\n",
      "    COMPILER msvc\n",
      "    COMPILER ARGUMENTS ['-std=c++11', '-g', '-fvisibility=hidden', '-O3']\n",
      "    building '_richdem' extension\n",
      "    error: Microsoft Visual C++ 14.0 or greater is required. Get it with \"Microsoft C++ Build Tools\": https://visualstudio.microsoft.com/visual-cpp-build-tools/\n",
      "    ----------------------------------------\n",
      "ERROR: Command errored out with exit status 1: 'C:\\Users\\joel1\\anaconda3\\python.exe' -u -c 'import sys, setuptools, tokenize; sys.argv[0] = '\"'\"'C:\\\\Users\\\\joel1\\\\AppData\\\\Local\\\\Temp\\\\pip-install-y1wty_dp\\\\richdem_0039537c7ce44cf18d6efd2b3ce96a86\\\\setup.py'\"'\"'; __file__='\"'\"'C:\\\\Users\\\\joel1\\\\AppData\\\\Local\\\\Temp\\\\pip-install-y1wty_dp\\\\richdem_0039537c7ce44cf18d6efd2b3ce96a86\\\\setup.py'\"'\"';f=getattr(tokenize, '\"'\"'open'\"'\"', open)(__file__);code=f.read().replace('\"'\"'\\r\\n'\"'\"', '\"'\"'\\n'\"'\"');f.close();exec(compile(code, __file__, '\"'\"'exec'\"'\"'))' install --record 'C:\\Users\\joel1\\AppData\\Local\\Temp\\pip-record-2vpey_at\\install-record.txt' --single-version-externally-managed --compile --install-headers 'C:\\Users\\joel1\\anaconda3\\Include\\richdem' Check the logs for full command output.\n"
     ]
    }
   ],
   "source": [
    "pip install richdem"
   ]
  },
  {
   "cell_type": "code",
   "execution_count": null,
   "id": "a2bb264e-1f90-4af6-8176-07564ddb06f6",
   "metadata": {},
   "outputs": [],
   "source": []
  }
 ],
 "metadata": {
  "kernelspec": {
   "display_name": "Python 3",
   "language": "python",
   "name": "python3"
  },
  "language_info": {
   "codemirror_mode": {
    "name": "ipython",
    "version": 3
   },
   "file_extension": ".py",
   "mimetype": "text/x-python",
   "name": "python",
   "nbconvert_exporter": "python",
   "pygments_lexer": "ipython3",
   "version": "3.8.8"
  }
 },
 "nbformat": 4,
 "nbformat_minor": 5
}
