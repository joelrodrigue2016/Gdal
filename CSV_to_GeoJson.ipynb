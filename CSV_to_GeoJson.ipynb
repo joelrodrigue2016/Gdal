{
 "cells": [
  {
   "cell_type": "markdown",
   "id": "7794c3bb",
   "metadata": {},
   "source": [
    "# GeoJSON:\n",
    "\n",
    " is an open standard format designed for representing simple geographical features, along with their non-spatial attributes. It is based on the JSON format.\n",
    "\n",
    "The features include points (therefore addresses and locations), line strings (therefore streets, highways and boundaries), polygons (countries, provinces, tracts of land), and multi-part collections of these types. GeoJSON features need not represent entities of the physical world only; mobile routing and navigation apps, for example, might describe their service coverage using GeoJSON.\n",
    "\n",
    "The GeoJSON format differs from other GIS standards in that it was written and is maintained not by a formal standards organization, but by an Internet working group of developers. A notable offspring of GeoJSON is TopoJSON, an extension of GeoJSON that encodes geospatial topology and that typically provides smaller file sizes.\n",
    "\n",
    "#### https://en.wikipedia.org/wiki/GeoJSON"
   ]
  },
  {
   "cell_type": "code",
   "execution_count": 36,
   "id": "ab54df43",
   "metadata": {},
   "outputs": [],
   "source": [
    "import csv\n",
    "import json"
   ]
  },
  {
   "cell_type": "markdown",
   "id": "f3560869",
   "metadata": {},
   "source": [
    "### let's get the csv file loaded first."
   ]
  },
  {
   "cell_type": "code",
   "execution_count": 37,
   "id": "3fcedf60",
   "metadata": {},
   "outputs": [],
   "source": [
    "csvfile = open(\"FL_insurance_sample.csv\", 'r')\n",
    "reader = csv.DictReader(csvfile)\n",
    "\n"
   ]
  },
  {
   "cell_type": "markdown",
   "id": "ea0a3964",
   "metadata": {},
   "source": [
    "### Now that the csv file has been loaded, we need to specify the fields contained in the csv file.\n",
    "his is an example \n",
    "\n",
    "fieldnames = ('Name', 'Flow', 'Arrow Size', 'Date', 'Lat', 'Long', 'Heading', 'Color', 'Desciption', 'table')"
   ]
  },
  {
   "cell_type": "code",
   "execution_count": 38,
   "id": "fe4bbd48",
   "metadata": {},
   "outputs": [],
   "source": [
    "\n",
    "field1 = 'policyID'\n",
    "field2 = 'statecode'\n",
    "field3 = 'county'\n",
    "field4 = 'eq_site_limit'\n",
    "field5 = 'hu_site_limit'\n",
    "field6 = 'fl_site_limit'\n",
    "field7 = 'fr_site_limit'\n",
    "field8 = 'tiv_2011'\n",
    "field9 = 'tiv_2012'\n",
    "field10 = 'eq_site_deductible'\n",
    "field11 = 'hu_site_deductible'\n",
    "field12 = 'fl_site_deductible'\n",
    "field13 = 'fr_site_deductible'\n",
    "field14 = 'point_latitude'\n",
    "field15 = 'point_longitude'\n",
    "field16 = 'line'\n",
    "field17 = 'construction'\n",
    "field18 = 'point_granularity'\n",
    "\n",
    "\n",
    "fieldnames = (field1,field2,field3,field4,field5,field6,field7,\n",
    "              field8,field9,field10,field11,field12,field13,field14,\n",
    "              field15,field16,field17,field18)\n",
    "\n",
    "\n",
    "\n",
    "output = []\n",
    "\n",
    "for each in reader:\n",
    "  row = {}\n",
    "  for field in fieldnames:\n",
    "    if not field == 'Coords':\n",
    "        row[field] = each[field]    \n",
    "  output.append(row)\n",
    "\n",
    "jData = { \"features\" : None }\n",
    "jData[\"features\"] = output\n",
    "\n"
   ]
  },
  {
   "cell_type": "markdown",
   "id": "e433805e",
   "metadata": {},
   "source": [
    "## Start the geojson file:\n",
    "\n",
    "### This part is the skeletal \n"
   ]
  },
  {
   "cell_type": "code",
   "execution_count": 39,
   "id": "59f16dd7",
   "metadata": {},
   "outputs": [],
   "source": [
    "reference = \"EPSG:4326\"\n",
    "geo = {\n",
    "    \"type\" : \"FeatureCollection\",\n",
    "    \"crs\" : { \"type\" : \"name\",\n",
    "              \"properties\" : {\n",
    "                  \"name\" : reference\n",
    "                  }\n",
    "              },\n",
    "    \"features\" : None\n",
    "    }\n",
    "\n",
    "feature_list = []\n",
    "\n"
   ]
  },
  {
   "cell_type": "markdown",
   "id": "24e2982a",
   "metadata": {},
   "source": [
    "### Now we will use the skeletal above and loop our CSV file through it."
   ]
  },
  {
   "cell_type": "code",
   "execution_count": 40,
   "id": "d61aa2c5",
   "metadata": {},
   "outputs": [],
   "source": [
    "# loop through json\n",
    "fCount = 0\n",
    "for feature in jData['features']:\n",
    "    fCount +=1\n",
    "    features = {\n",
    "        \"type\" : \"Feature\",\n",
    "        \"id\" : fCount,\n",
    "        \"geometry\" : { \"type\" : \"Point\",\n",
    "                       \"coordinates\" : [\n",
    "                           float(feature[\"point_latitude\"]), float(feature[\"point_longitude\"]) ]\n",
    "                       },\n",
    "        \"properties\" : { \"OBJECTID\" : fCount,\n",
    "                         \"Lat\" : float(feature[\"point_latitude\"]),\n",
    "                         \"Long\" : float(feature[\"point_longitude\"])\n",
    "                         #\"Heading\" : int(feature[\"Heading\"])\n",
    "                         }\n",
    "        }\n",
    "    \n",
    "    feature_list.append(features)"
   ]
  },
  {
   "cell_type": "markdown",
   "id": "b1210ab9",
   "metadata": {},
   "source": [
    "### Now that every feature has been complied to the skeleton we can now get the final product below"
   ]
  },
  {
   "cell_type": "code",
   "execution_count": 42,
   "id": "82f8c1a1",
   "metadata": {},
   "outputs": [
    {
     "name": "stdout",
     "output_type": "stream",
     "text": [
      "how would you like to name your file:   joelh1\n",
      "✅✅✅✅✅✅✅✅Your document is ready✅✅✅✅✅✅✅✅✅✅✅✅✅✅\n"
     ]
    }
   ],
   "source": [
    "try: \n",
    "    user_name = input(\"how would you like to name your file:   \")\n",
    "    file_name_output =f\"{user_name}.json\"\n",
    "\n",
    "    geo[\"features\"] = feature_list\n",
    "\n",
    "    # to write to a file\n",
    "    with open(file_name_output, 'w') as fp:\n",
    "        json.dump(geo, fp)\n",
    "        \n",
    "    print(\"✅✅✅✅✅✅✅✅Your document is ready✅✅✅✅✅✅✅✅✅✅✅✅✅✅\")\n",
    "except:\n",
    "    print(\"Something went wrong!\")"
   ]
  },
  {
   "cell_type": "code",
   "execution_count": null,
   "id": "4ec51d40",
   "metadata": {},
   "outputs": [],
   "source": []
  }
 ],
 "metadata": {
  "kernelspec": {
   "display_name": "Python 3",
   "language": "python",
   "name": "python3"
  },
  "language_info": {
   "codemirror_mode": {
    "name": "ipython",
    "version": 3
   },
   "file_extension": ".py",
   "mimetype": "text/x-python",
   "name": "python",
   "nbconvert_exporter": "python",
   "pygments_lexer": "ipython3",
   "version": "3.8.8"
  }
 },
 "nbformat": 4,
 "nbformat_minor": 5
}
